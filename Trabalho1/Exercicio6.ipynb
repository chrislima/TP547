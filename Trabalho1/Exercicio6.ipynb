{
 "cells": [
  {
   "cell_type": "markdown",
   "source": [
    "## 6) A distribuição discreta geométrica conta o número de tentativas até o primeiro sucesso. A pmf é dada por f(x)=p(1-p)x-1, onde p representa a probabilidade de sucesso e x o numero de tentativas. Fazer um algoritmo para a geração das variáveis aleatórias geométricas. Com o algoritmo proposto calcular: Uma urna tem 30 bolas brancas e 20 bolas pretas. Qual a probabilidade de que a 6ª bola retirada com reposição seja a primeira bola preta?"
   ],
   "metadata": {
    "collapsed": false
   },
   "id": "ed9b86d14d5fe364"
  },
  {
   "cell_type": "code",
   "execution_count": 2,
   "outputs": [],
   "source": [
    "import numpy as np"
   ],
   "metadata": {
    "collapsed": false,
    "ExecuteTime": {
     "end_time": "2024-03-16T20:39:17.619457600Z",
     "start_time": "2024-03-16T20:39:17.385756700Z"
    }
   },
   "id": "82536bc4263fdbc8"
  },
  {
   "cell_type": "code",
   "execution_count": 59,
   "outputs": [],
   "source": [
    "p = 20/50\n",
    "N = 100000\n",
    "value = 6\n",
    "count = 0\n",
    "av = np.array([])\n",
    "x = np.random.uniform(0,1,N)\n",
    "for ix in x:\n",
    "    i = 0\n",
    "    pr = p\n",
    "    F = pr\n",
    "    while ix >= F:\n",
    "        pr += p*(1-pr)\n",
    "        F = pr\n",
    "        i += 1\n",
    "    a1=i\n",
    "    av=np.append(av,a1)"
   ],
   "metadata": {
    "collapsed": false,
    "ExecuteTime": {
     "end_time": "2024-03-16T20:50:47.136483200Z",
     "start_time": "2024-03-16T20:50:45.303984500Z"
    }
   },
   "id": "6de86ad6d5d91c25"
  },
  {
   "cell_type": "code",
   "execution_count": 60,
   "outputs": [
    {
     "name": "stdout",
     "output_type": "stream",
     "text": [
      "A probabilidade da sexta bola retirada ser a primeira preta P(X == 2) = 4.7780%\n"
     ]
    }
   ],
   "source": [
    "for poivalue in av:\n",
    "    if poivalue >= value:\n",
    "        count += 1\n",
    "prob=count/N\n",
    "print(\"A probabilidade da sexta bola retirada ser a primeira preta P(X == 2) = {:.4f}%\".format(prob*100))"
   ],
   "metadata": {
    "collapsed": false,
    "ExecuteTime": {
     "end_time": "2024-03-16T20:50:50.324234100Z",
     "start_time": "2024-03-16T20:50:50.292496600Z"
    }
   },
   "id": "9e4b6a0a63c3551"
  }
 ],
 "metadata": {
  "kernelspec": {
   "display_name": "Python 3",
   "language": "python",
   "name": "python3"
  },
  "language_info": {
   "codemirror_mode": {
    "name": "ipython",
    "version": 2
   },
   "file_extension": ".py",
   "mimetype": "text/x-python",
   "name": "python",
   "nbconvert_exporter": "python",
   "pygments_lexer": "ipython2",
   "version": "2.7.6"
  }
 },
 "nbformat": 4,
 "nbformat_minor": 5
}
