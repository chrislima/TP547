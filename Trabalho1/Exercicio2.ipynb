{
 "cells": [
  {
   "cell_type": "markdown",
   "source": [
    "## 2) O número de chamadas para o help-desk de uma empresa tem uma distribuição de Poisson com 60 chamadas por um período de 10 horas. Se C = a variável aleatória para o número de chamadas por hora, encontre:"
   ],
   "metadata": {
    "collapsed": false
   },
   "id": "bbe8dbbbdade70d4"
  },
  {
   "cell_type": "markdown",
   "source": [
    "### a)  A probabilidade de que o suporte técnico não receba chamadas em uma determinada hora."
   ],
   "metadata": {
    "collapsed": false
   },
   "id": "764478e4a3cbe33"
  },
  {
   "cell_type": "code",
   "execution_count": 1,
   "outputs": [],
   "source": [
    "import numpy as np"
   ],
   "metadata": {
    "collapsed": false,
    "ExecuteTime": {
     "end_time": "2024-03-16T20:01:37.450333500Z",
     "start_time": "2024-03-16T20:01:37.352678100Z"
    }
   },
   "id": "1095981a45a36ec3"
  },
  {
   "cell_type": "code",
   "execution_count": 74,
   "outputs": [],
   "source": [
    "lambda1 = 6 \n",
    "N = 10000\n",
    "value = 0\n",
    "count = 0\n",
    "av = np.array([])\n",
    "x = np.random.uniform(0,1,N)\n",
    "for ix in x:\n",
    "    i = 0\n",
    "    pr = np.exp(-lambda1)\n",
    "    F = pr\n",
    "    while ix>=F:\n",
    "        pr=lambda1/(i+1)*pr\n",
    "        F += pr\n",
    "        i += 1\n",
    "    a1=i\n",
    "    av=np.append(av,a1)"
   ],
   "metadata": {
    "collapsed": false,
    "ExecuteTime": {
     "end_time": "2024-03-16T20:12:18.005520700Z",
     "start_time": "2024-03-16T20:12:17.879208Z"
    }
   },
   "id": "6e122b339a19271d"
  },
  {
   "cell_type": "code",
   "execution_count": 75,
   "outputs": [
    {
     "name": "stdout",
     "output_type": "stream",
     "text": [
      "Probabilidade de não receber chamadas P(X = 0) = 0.0024\n"
     ]
    }
   ],
   "source": [
    "for poivalue in av:\n",
    "    if poivalue == value:\n",
    "        count += 1\n",
    "prob=count/N\n",
    "print('Probabilidade de não receber chamadas P(X = 0) = {:.4f}'.format(prob))"
   ],
   "metadata": {
    "collapsed": false,
    "ExecuteTime": {
     "end_time": "2024-03-16T20:12:19.735739900Z",
     "start_time": "2024-03-16T20:12:19.728499600Z"
    }
   },
   "id": "670e2a9ae44d5b24"
  },
  {
   "cell_type": "markdown",
   "source": [
    "### b)  a probabilidade de que o suporte técnico receba menos de oito chamadas em uma determinada hora."
   ],
   "metadata": {
    "collapsed": false
   },
   "id": "55a26ddb9ed2e64b"
  },
  {
   "cell_type": "code",
   "execution_count": 72,
   "outputs": [],
   "source": [
    "lambda1 = 6 \n",
    "N = 10000\n",
    "value = 8\n",
    "count = 0\n",
    "av = np.array([])\n",
    "x = np.random.uniform(0,1,N)\n",
    "for ix in x:\n",
    "    i = 0\n",
    "    pr = np.exp(-lambda1)\n",
    "    F = pr\n",
    "    while ix>=F:\n",
    "        pr=lambda1/(i+1)*pr\n",
    "        F += pr\n",
    "        i += 1\n",
    "    a1=i\n",
    "    av=np.append(av,a1)"
   ],
   "metadata": {
    "collapsed": false,
    "ExecuteTime": {
     "end_time": "2024-03-16T20:12:08.233980900Z",
     "start_time": "2024-03-16T20:12:08.112811300Z"
    }
   },
   "id": "5bb0f8f72ccfcafb"
  },
  {
   "cell_type": "code",
   "execution_count": 73,
   "outputs": [
    {
     "name": "stdout",
     "output_type": "stream",
     "text": [
      "A probabilidad de receber menos de oito chamadas P(X < 8) = 0.7432\n"
     ]
    }
   ],
   "source": [
    "for poivalue in av:\n",
    "    if poivalue < value:\n",
    "        count=count+1\n",
    "prob=count/N\n",
    "print(\"A probabilidad de receber menos de oito chamadas P(X < 8) = {:.4f}\".format(prob))"
   ],
   "metadata": {
    "collapsed": false,
    "ExecuteTime": {
     "end_time": "2024-03-16T20:12:09.867183900Z",
     "start_time": "2024-03-16T20:12:09.862439400Z"
    }
   },
   "id": "618ba54bbfa6491f"
  }
 ],
 "metadata": {
  "kernelspec": {
   "display_name": "Python 3",
   "language": "python",
   "name": "python3"
  },
  "language_info": {
   "codemirror_mode": {
    "name": "ipython",
    "version": 2
   },
   "file_extension": ".py",
   "mimetype": "text/x-python",
   "name": "python",
   "nbconvert_exporter": "python",
   "pygments_lexer": "ipython2",
   "version": "2.7.6"
  }
 },
 "nbformat": 4,
 "nbformat_minor": 5
}
