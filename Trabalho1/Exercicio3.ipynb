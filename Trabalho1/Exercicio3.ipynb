{
 "cells": [
  {
   "cell_type": "markdown",
   "source": [
    "## 3) Um fabricante de pistões de metal descobre que, em média, 15% de seus pistões são rejeitados porque são superdimensionados ou subdimensionados. Qual é a probabilidade de um lote de 8 pistões conter:"
   ],
   "metadata": {
    "collapsed": false
   },
   "id": "9a2ec9ac7f211a6d"
  },
  {
   "cell_type": "markdown",
   "source": [
    "### a) não mais que 2 rejeitados?"
   ],
   "metadata": {
    "collapsed": false
   },
   "id": "1aa2dd40a8bae271"
  },
  {
   "cell_type": "code",
   "execution_count": 2,
   "outputs": [],
   "source": [
    "import numpy as np\n",
    "import matplotlib.pyplot as plt"
   ],
   "metadata": {
    "collapsed": false,
    "ExecuteTime": {
     "end_time": "2024-03-16T20:14:58.904926600Z",
     "start_time": "2024-03-16T20:14:58.079229200Z"
    }
   },
   "id": "3c3b1ad0f804058c"
  },
  {
   "cell_type": "code",
   "execution_count": 6,
   "outputs": [],
   "source": [
    "q = 0.15\n",
    "n = 8 \n",
    "value = 2\n",
    "N = 10000\n",
    "c = q/(1-q)\n",
    "av = np.array([])\n",
    "count = 0\n",
    "x = np.random.uniform(0,1,N)\n",
    "for ix in x:\n",
    "    i = 0\n",
    "    pr = pow((1 - q),n)\n",
    "    F = pr\n",
    "    while ix >= F:\n",
    "        pr = (c * (n - i) / (i + 1))* pr\n",
    "        F += pr\n",
    "        i += 1\n",
    "    a1=i\n",
    "    av=np.append(av,a1)"
   ],
   "metadata": {
    "collapsed": false,
    "ExecuteTime": {
     "end_time": "2024-03-16T20:15:13.346207Z",
     "start_time": "2024-03-16T20:15:13.243941500Z"
    }
   },
   "id": "4b87bcb9f05ea067"
  },
  {
   "cell_type": "code",
   "execution_count": 7,
   "outputs": [
    {
     "name": "stdout",
     "output_type": "stream",
     "text": [
      "A probabilidade de não haver mais que 2 pistões rejeitados P(X <= 2) = 89.40%\n"
     ]
    }
   ],
   "source": [
    "\n",
    "for binvalue in av:\n",
    "    if binvalue<=value:\n",
    "        count += 1\n",
    "prob=count/N\n",
    "print(\"A probabilidade de não haver mais que 2 pistões rejeitados P(X <= 2) = {:.2f}%\".format(prob*100))"
   ],
   "metadata": {
    "collapsed": false,
    "ExecuteTime": {
     "end_time": "2024-03-16T20:15:15.370906500Z",
     "start_time": "2024-03-16T20:15:15.370401300Z"
    }
   },
   "id": "46fb7e68edbf796b"
  },
  {
   "cell_type": "markdown",
   "source": [
    "### b) pelo menos 6 rejeitados?"
   ],
   "metadata": {
    "collapsed": false
   },
   "id": "2c0698eb4a661d9e"
  },
  {
   "cell_type": "code",
   "execution_count": 27,
   "outputs": [],
   "source": [
    "q = 0.15\n",
    "n = 8 \n",
    "value = 6\n",
    "N = 100000\n",
    "c = q/(1-q)\n",
    "av = np.array([])\n",
    "count = 0\n",
    "x = np.random.uniform(0,1,N)\n",
    "for ix in x:\n",
    "    i = 0\n",
    "    pr = pow((1 - q),n)\n",
    "    F = pr\n",
    "    while ix >= F:\n",
    "        pr = (c * (n - i) / (i + 1))* pr\n",
    "        F += pr\n",
    "        i += 1\n",
    "    a1=i\n",
    "    av=np.append(av,a1)"
   ],
   "metadata": {
    "collapsed": false,
    "ExecuteTime": {
     "end_time": "2024-03-16T20:20:23.085936100Z",
     "start_time": "2024-03-16T20:20:21.109436700Z"
    }
   },
   "id": "e6de6f53f317e6b8"
  },
  {
   "cell_type": "code",
   "execution_count": 28,
   "outputs": [
    {
     "name": "stdout",
     "output_type": "stream",
     "text": [
      "A probabilidade de haver pelo menos 6 pistões rejeitados P(X >= 6) = 0.0290%\n"
     ]
    }
   ],
   "source": [
    "\n",
    "for binvalue in av:\n",
    "    if binvalue >= value:\n",
    "        count += 1\n",
    "prob=count/N\n",
    "print(\"A probabilidade de haver pelo menos 6 pistões rejeitados P(X >= 6) = {:.4f}%\".format(prob*100))"
   ],
   "metadata": {
    "collapsed": false,
    "ExecuteTime": {
     "end_time": "2024-03-16T20:20:24.837998600Z",
     "start_time": "2024-03-16T20:20:24.806513300Z"
    }
   },
   "id": "cc838ba05e1515e2"
  },
  {
   "cell_type": "code",
   "execution_count": 30,
   "outputs": [
    {
     "data": {
      "text/plain": "<Figure size 640x480 with 1 Axes>",
      "image/png": "[encoded data removed]"
     },
     "metadata": {},
     "output_type": "display_data"
    }
   ],
   "source": [
    "plt.hist(av, bins=range(int(np.max(av)) + 2), density=True, alpha=0.7, color='blue')\n",
    "plt.xlabel('Valores')\n",
    "plt.ylabel('Frequência')\n",
    "plt.title('Histograma ')\n",
    "plt.show()"
   ],
   "metadata": {
    "collapsed": false,
    "ExecuteTime": {
     "end_time": "2024-03-16T20:21:06.592462600Z",
     "start_time": "2024-03-16T20:21:06.392348Z"
    }
   },
   "id": "ce55c696316c6ec3"
  }
 ],
 "metadata": {
  "kernelspec": {
   "display_name": "Python 3",
   "language": "python",
   "name": "python3"
  },
  "language_info": {
   "codemirror_mode": {
    "name": "ipython",
    "version": 2
   },
   "file_extension": ".py",
   "mimetype": "text/x-python",
   "name": "python",
   "nbconvert_exporter": "python",
   "pygments_lexer": "ipython2",
   "version": "2.7.6"
  }
 },
 "nbformat": 4,
 "nbformat_minor": 5
}
